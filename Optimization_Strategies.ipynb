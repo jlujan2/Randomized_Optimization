{
 "cells": [
  {
   "cell_type": "code",
   "execution_count": 266,
   "id": "43cf77bd-7dd5-4830-ade6-e0dc2d8eab53",
   "metadata": {},
   "outputs": [],
   "source": [
    "import mlrose_hiive as mlrose\n",
    "import numpy as np\n",
    "import time"
   ]
  },
  {
   "cell_type": "code",
   "execution_count": 267,
   "id": "c0994c17-f784-4cc8-a785-01857009b6e2",
   "metadata": {},
   "outputs": [],
   "source": [
    "fitness = mlrose.Queens()"
   ]
  },
  {
   "cell_type": "code",
   "execution_count": 268,
   "id": "85330cea-9500-490d-b5a1-96c7c5138efb",
   "metadata": {},
   "outputs": [],
   "source": [
    "def queens_max(state):\n",
    "    \n",
    "    fitness_cnt = 0\n",
    "    \n",
    "    for i in range(len(state) - 1 ):\n",
    "        for j in range(i+1, len(state)):\n",
    "\n",
    "            if(state[j] != state[i]) and (state[j] != state[i] + (j + i)) and (state[j] != state[i] - (j-i)):\n",
    "\n",
    "                fitness_cnt += 1\n",
    "                    \n",
    "    return fitness_cnt"
   ]
  },
  {
   "cell_type": "markdown",
   "id": "aadb12d7-7f2c-426c-ae7b-d81c730db532",
   "metadata": {},
   "source": [
    "Randomized Hill Climbing"
   ]
  },
  {
   "cell_type": "code",
   "execution_count": 269,
   "id": "3df40642-7f7d-459b-84a9-88d15a711477",
   "metadata": {},
   "outputs": [],
   "source": [
    "# Define Fitness Function\n",
    "fitness_cust = mlrose.CustomFitness(queens_max)"
   ]
  },
  {
   "cell_type": "code",
   "execution_count": 270,
   "id": "0c6e361f-3f04-4ee1-9ff7-ca97353c6214",
   "metadata": {},
   "outputs": [],
   "source": [
    "# Define Optimization Problem Object \n",
    "problem_8 = mlrose.DiscreteOpt(length = 8, fitness_fn = fitness_cust, maximize = False, max_val = 8)\n",
    "problem_16 = mlrose.DiscreteOpt(length = 16, fitness_fn = fitness_cust, maximize = False, max_val = 16)\n",
    "problem_24 = mlrose.DiscreteOpt(length = 24, fitness_fn = fitness_cust, maximize = False, max_val = 24)\n",
    "problem_32 = mlrose.DiscreteOpt(length = 32, fitness_fn = fitness_cust, maximize = False, max_val = 32)"
   ]
  },
  {
   "cell_type": "markdown",
   "id": "00b83258-be52-4ee3-bec2-266c5a4ff733",
   "metadata": {},
   "source": [
    "RHC 8 - 16 - 24 Queens Iterations = 10000"
   ]
  },
  {
   "cell_type": "code",
   "execution_count": 320,
   "id": "ed01afb3-5c3f-4564-a09d-3bd8a2e8b698",
   "metadata": {},
   "outputs": [],
   "source": [
    "start_time = time.time()\n",
    "\n",
    "# RHC 8 Queens\n",
    "Random_Hilll_Climbing_8_Queens = mlrose.random_hill_climb(problem = problem_8, max_iters  = 10000, max_attempts =1000, curve=True, random_state = 1)               \n",
    "end_time = time.time()\n",
    "time_RHC_8_queens = end_time - start_time\n",
    "\n",
    "start_time = time.time()\n",
    "# RHC 16 Queens\n",
    "Random_Hilll_Climbing_16_Queens = mlrose.random_hill_climb(problem = problem_16, max_iters  = 10000 , max_attempts =1000, curve=True, random_state = 1)               \n",
    "end_time = time.time()\n",
    "time_RHC_16_queens = end_time - start_time\n",
    "\n",
    "start_time = time.time()\n",
    "# RHC 24 Queens\n",
    "Random_Hilll_Climbing_24_Queens = mlrose.random_hill_climb(problem = problem_24, max_iters  = 10000, max_attempts =1000, curve=True, random_state = 1)               \n",
    "end_time = time.time()\n",
    "time_RHC_24_queens = end_time - start_time\n",
    "\n",
    "start_time = time.time()\n",
    "# RHC 32 Queens0\n",
    "Random_Hilll_Climbing_32_Queens = mlrose.random_hill_climb(problem = problem_32, max_iters  = 10000, max_attempts =1000, curve=True, random_state = 1)               \n",
    "end_time = time.time()\n",
    "time_RHC_32_queens = end_time - start_time"
   ]
  },
  {
   "cell_type": "code",
   "execution_count": 321,
   "id": "4ab767d5-6def-4176-8600-c2935cb4af19",
   "metadata": {},
   "outputs": [
    {
     "name": "stdout",
     "output_type": "stream",
     "text": [
      "Time 8 Queens:  0.04898262023925781\n",
      "Time 16 Queens:  0.08523249626159668\n",
      "Time 24 Queens:  0.25003910064697266\n",
      "Time 32 Queens:  0.25003910064697266\n",
      "Best State 8 Queens  [5 4 7 6 5 4 3 2]\n",
      "Best Fitness 8 Queens  8.0\n",
      "Best State 16 Queens  [5 5 5 5 5 5 5 5 5 5 5 5 5 5 5 5]\n",
      "Best Fitness 16 Queens  0.0\n",
      "Best State 24 Queens  [0 0 0 0 0 0 0 0 0 0 0 0 0 0 0 0 0 0 0 0 0 0 0 0]\n",
      "Best Fitness 24 Queens  0.0\n",
      "Best State 32 Queens  [18 18 18 18 18 18 18 18 18 18 18 18 18 18 18 18 18 18 18 18 18 18 18 18\n",
      " 18 18 18 18 18 18 18 18]\n",
      "Best Fitness 32 Queens  0.0\n"
     ]
    }
   ],
   "source": [
    "print(\"Time 8 Queens: \", time_RHC_8_queens)\n",
    "print(\"Time 16 Queens: \", time_RHC_16_queens)\n",
    "print(\"Time 24 Queens: \", time_RHC_24_queens)\n",
    "print(\"Time 32 Queens: \", time_RHC_24_queens)\n",
    "\n",
    "print(\"Best State 8 Queens \" , Random_Hilll_Climbing_8_Queens[0]) \n",
    "print(\"Best Fitness 8 Queens \", Random_Hilll_Climbing_8_Queens[1])\n",
    "\n",
    "print(\"Best State 16 Queens \" , Random_Hilll_Climbing_16_Queens[0]) \n",
    "print(\"Best Fitness 16 Queens \", Random_Hilll_Climbing_16_Queens[1])\n",
    "\n",
    "print(\"Best State 24 Queens \" , Random_Hilll_Climbing_24_Queens[0]) \n",
    "print(\"Best Fitness 24 Queens \", Random_Hilll_Climbing_24_Queens[1])\n",
    "\n",
    "print(\"Best State 32 Queens \" , Random_Hilll_Climbing_32_Queens[0]) \n",
    "print(\"Best Fitness 32 Queens \", Random_Hilll_Climbing_32_Queens[1])"
   ]
  },
  {
   "cell_type": "code",
   "execution_count": 273,
   "id": "3b2854cb-f9c5-4d5f-bc1a-e89ff247bc13",
   "metadata": {},
   "outputs": [
    {
     "data": {
      "text/plain": [
       "100"
      ]
     },
     "execution_count": 273,
     "metadata": {},
     "output_type": "execute_result"
    }
   ],
   "source": [
    "len(Random_Hilll_Climbing_8_Queens[2])"
   ]
  },
  {
   "cell_type": "markdown",
   "id": "a71dfb08-b359-48d7-9e3e-19370299d741",
   "metadata": {},
   "source": [
    "Simulated Annealing"
   ]
  },
  {
   "cell_type": "code",
   "execution_count": 322,
   "id": "86c16ce8-ba1e-43ef-9102-7c0a39fd23f7",
   "metadata": {},
   "outputs": [],
   "source": [
    "\n",
    "\n",
    "# Decay Schedule\n",
    "schedule = mlrose.ExpDecay()\n",
    "init_8 = np.array([0,1,2,3,4,5,6,7])\n",
    "\n",
    "start_time = time.time()\n",
    "Simulated_Annealing_8_Queens = mlrose.simulated_annealing(problem=problem_8, schedule = schedule, max_attempts = 1000, max_iters=10000, init_state=init_8, random_state = 1, curve=True)\n",
    "end_time = time.time()\n",
    "time_SA_8_queens = end_time - start_time\n",
    "\n",
    "start_time = time.time()\n",
    "Simulated_Annealing_16_Queens = mlrose.simulated_annealing(problem=problem_16, schedule = schedule, max_attempts = 1000, max_iters=10000, init_state=np.array(list(range(0,16))),random_state = 1, curve=True)\n",
    "end_time = time.time()\n",
    "time_SA_16_queens = end_time - start_time\n",
    "\n",
    "start_time = time.time()\n",
    "Simulated_Annealing_24_Queens = mlrose.simulated_annealing(problem=problem_24, schedule = schedule, max_attempts = 1000, max_iters=10000, init_state=list(range(0,24)), random_state = 1, curve=True)\n",
    "end_time = time.time()\n",
    "time_SA_24_queens = end_time - start_time\n",
    "\n",
    "start_time = time.time()\n",
    "Simulated_Annealing_32_Queens = mlrose.simulated_annealing(problem=problem_32, schedule = schedule, max_attempts = 1000, max_iters=10000, init_state=list(range(0,32)), random_state = 1, curve=True)\n",
    "end_time = time.time()\n",
    "time_SA_32_queens = end_time - start_time"
   ]
  },
  {
   "cell_type": "code",
   "execution_count": 323,
   "id": "ef88d21f-927f-441e-9698-34b03a54ce0d",
   "metadata": {},
   "outputs": [
    {
     "name": "stdout",
     "output_type": "stream",
     "text": [
      "Time 8 Queens:  0.04898262023925781\n",
      "Time 16 Queens:  0.08523249626159668\n",
      "Time 24 Queens:  0.25003910064697266\n",
      "Time 32 Queens:  0.9177989959716797\n",
      "Best State 8 Queens  [7 7 7 7 7 7 7 7]\n",
      "Best Fitness 8 Queens  0.0\n",
      "Best State 16 Queens  [11 11 11 11 11 11 11 11 11 11 11 11 11 11 11 11]\n",
      "Best Fitness 16 Queens  0.0\n",
      "Best State 24 Queens  [19 19 19 19 19 19 19 19 19 19 19 19 19 19 19 19 19 19 19 19 19 19 19 19]\n",
      "Best Fitness 24 Queens  0.0\n",
      "Best State 32 Queens  [29 29 31 29 29 29 29 29 29 29 29 29 29 29 29 29 29 29 29 29 29 29 29 29\n",
      " 29 29 29 29 29 29 29 29]\n",
      "Best Fitness 32 Queens  29.0\n"
     ]
    }
   ],
   "source": [
    "print(\"Time 8 Queens: \", time_RHC_8_queens)\n",
    "print(\"Time 16 Queens: \", time_RHC_16_queens)\n",
    "print(\"Time 24 Queens: \", time_RHC_24_queens)\n",
    "print(\"Time 32 Queens: \", time_RHC_32_queens)\n",
    "\n",
    "print(\"Best State 8 Queens \" , Simulated_Annealing_8_Queens[0]) \n",
    "print(\"Best Fitness 8 Queens \", Simulated_Annealing_8_Queens[1])\n",
    "\n",
    "print(\"Best State 16 Queens \" , Simulated_Annealing_16_Queens[0]) \n",
    "print(\"Best Fitness 16 Queens \", Simulated_Annealing_16_Queens[1])\n",
    "\n",
    "print(\"Best State 24 Queens \" , Simulated_Annealing_24_Queens[0]) \n",
    "print(\"Best Fitness 24 Queens \", Simulated_Annealing_24_Queens[1])\n",
    "\n",
    "print(\"Best State 32 Queens \" , Simulated_Annealing_32_Queens[0]) \n",
    "print(\"Best Fitness 32 Queens \", Simulated_Annealing_32_Queens[1])"
   ]
  },
  {
   "cell_type": "markdown",
   "id": "faeede7f-ce66-46ef-abf8-c1d88f899ed5",
   "metadata": {},
   "source": [
    "Genetic Algorithm"
   ]
  },
  {
   "cell_type": "code",
   "execution_count": 326,
   "id": "ec54327e-8926-4d14-bf07-5385d0492dca",
   "metadata": {},
   "outputs": [],
   "source": [
    "start_time = time.time()\n",
    "Genetic_Algo_8_queens = mlrose.genetic_alg(problem=problem_8, pop_size=200, mutation_prob=0.1, max_iters = 10000, max_attempts=1000, curve=True)\n",
    "end_time = time.time()\n",
    "GA_8_queens_time = end_time - start_time\n",
    "\n",
    "start_time = time.time()\n",
    "Genetic_Algo_16_queens = mlrose.genetic_alg(problem=problem_16, pop_size=200, mutation_prob=0.1, max_iters = 10000, max_attempts=1000, curve=True)\n",
    "end_time = time.time()\n",
    "GA_16_queens_time = end_time - start_time\n",
    "\n",
    "start_time = time.time()\n",
    "Genetic_Algo_24_queens = mlrose.genetic_alg(problem=problem_24, pop_size=200, mutation_prob=0.1, max_iters = 10000, max_attempts=1000, curve=True)\n",
    "end_time = time.time()\n",
    "GA_24_queens_time = end_time - start_time\n",
    "\n",
    "start_time = time.time()\n",
    "Genetic_Algo_32_queens = mlrose.genetic_alg(problem=problem_32, pop_size=200, mutation_prob=0.1, max_iters = 10000, max_attempts=1000, curve=True)\n",
    "end_time = time.time()\n",
    "GA_32_queens_time = end_time - start_time"
   ]
  },
  {
   "cell_type": "code",
   "execution_count": 327,
   "id": "9ffdbcff-cde8-4e38-a1da-01954200d76a",
   "metadata": {},
   "outputs": [
    {
     "name": "stdout",
     "output_type": "stream",
     "text": [
      "Time 8 Queens:  10.300656795501709\n",
      "Time 16 Queens:  15.648844003677368\n",
      "Time 24 Queens:  23.994147300720215\n",
      "Time 32 Queens:  38.924060344696045\n",
      "Best State 8 Queens  [6 6 6 6 6 6 6 6]\n",
      "Best Fitness 8 Queens  0.0\n",
      "Best State 16 Queens  [0 0 0 0 0 0 0 0 0 0 0 0 0 0 0 0]\n",
      "Best Fitness 16 Queens  0.0\n",
      "Best State 24 Queens  [5 5 5 5 5 5 5 5 5 5 5 5 5 5 5 5 5 5 5 5 5 5 5 5]\n",
      "Best Fitness 24 Queens  0.0\n",
      "Best State 32 Queens  [8 8 8 8 8 8 8 8 8 8 8 8 8 8 8 8 8 8 8 8 8 8 8 8 8 8 8 8 8 8 8 8]\n",
      "Best Fitness 32 Queens  0.0\n"
     ]
    }
   ],
   "source": [
    "print(\"Time 8 Queens: \", GA_8_queens_time)\n",
    "print(\"Time 16 Queens: \", GA_16_queens_time)\n",
    "print(\"Time 24 Queens: \", GA_24_queens_time)\n",
    "print(\"Time 32 Queens: \", GA_32_queens_time)\n",
    "\n",
    "print(\"Best State 8 Queens \" , Genetic_Algo_8_queens[0]) \n",
    "print(\"Best Fitness 8 Queens \", Genetic_Algo_8_queens[1])\n",
    "\n",
    "print(\"Best State 16 Queens \" , Genetic_Algo_16_queens[0]) \n",
    "print(\"Best Fitness 16 Queens \", Genetic_Algo_16_queens[1])\n",
    "\n",
    "print(\"Best State 24 Queens \" , Genetic_Algo_24_queens[0]) \n",
    "print(\"Best Fitness 24 Queens \", Genetic_Algo_24_queens[1])\n",
    "\n",
    "print(\"Best State 32 Queens \" , Genetic_Algo_32_queens[0]) \n",
    "print(\"Best Fitness 32 Queens \", Genetic_Algo_32_queens[1])"
   ]
  },
  {
   "cell_type": "markdown",
   "id": "5ec4170a-5239-4347-bc44-3481a96dd19a",
   "metadata": {},
   "source": [
    "MIMIC Algorithm"
   ]
  },
  {
   "cell_type": "code",
   "execution_count": 331,
   "id": "bb5862b4-4803-42c3-9cd9-1ef56cb9aa4a",
   "metadata": {},
   "outputs": [],
   "source": [
    "start_time = time.time()\n",
    "MIMIC_8_queens = mlrose.mimic(problem = problem_8 , pop_size=500, keep_pct=0.2, max_attempts=1000, max_iters=10000, curve=True)\n",
    "end_time = time.time()\n",
    "MIMIC_8_queens_time = end_time - start_time\n",
    "\n",
    "start_time = time.time()\n",
    "MIMIC_16_queens = mlrose.mimic(problem = problem_16, pop_size=500, keep_pct=0.2, max_attempts=1000, max_iters=10000, curve=True)\n",
    "end_time = time.time()\n",
    "MIMIC_16_queens_time = end_time - start_time\n",
    "\n",
    "start_time = time.time()\n",
    "MIMIC_24_queens = mlrose.mimic(problem = problem_24, pop_size=500, keep_pct=0.2, max_attempts=1000, max_iters=10000, curve=True)\n",
    "end_time = time.time()\n",
    "MIMIC_24_queens_time = end_time - start_time\n",
    "\n",
    "start_time = time.time()\n",
    "MIMIC_32_queens = mlrose.mimic(problem = problem_32, pop_size=500, keep_pct=0.2, max_attempts=1000, max_iters=10000, curve=True)\n",
    "end_time = time.time()\n",
    "MIMIC_32_queens_time = end_time - start_time\n"
   ]
  },
  {
   "cell_type": "code",
   "execution_count": 334,
   "id": "69aa5ca1-9427-4b33-b4ee-22c05a88ee82",
   "metadata": {},
   "outputs": [
    {
     "name": "stdout",
     "output_type": "stream",
     "text": [
      "Time 8 Queens:  36.070685386657715\n",
      "Time 16 Queens:  152.78670048713684\n",
      "Time 24 Queens:  354.7114369869232\n",
      "Time 32 Queens:  650.7919890880585\n",
      "Best State 8 Queens  [0 0 0 0 0 0 0 0]\n",
      "Best Fitness 8 Queens  0.0\n",
      "Best State 16 Queens  [ 8  8  8 11  8  8  8  8 10  9  8  8  8  8  8  8]\n",
      "Best Fitness 16 Queens  37.0\n",
      "Best State 24 Queens  [ 7  1  7  7 10  9  7  7  3  5  7  3  2  7  9  7  7  5  7  1 22  1  3  7]\n",
      "Best Fitness 24 Queens  191.0\n",
      "Best State 32 Queens  [28 24  1 28 28 28 28 11  8 28 20  8  2  8 30 11 28 11 28  8  7  8 11 10\n",
      "  1  1  1 28 28  1 26  1]\n",
      "Best Fitness 32 Queens  405.0\n"
     ]
    }
   ],
   "source": [
    "print(\"Time 8 Queens: \", MIMIC_8_queens_time)\n",
    "print(\"Time 16 Queens: \", MIMIC_16_queens_time)\n",
    "print(\"Time 24 Queens: \", MIMIC_24_queens_time)\n",
    "print(\"Time 32 Queens: \", MIMIC_32_queens_time)\n",
    "\n",
    "print(\"Best State 8 Queens \" , MIMIC_8_queens[0]) \n",
    "print(\"Best Fitness 8 Queens \", MIMIC_8_queens[1])\n",
    "\n",
    "print(\"Best State 16 Queens \" , MIMIC_16_queens[0]) \n",
    "print(\"Best Fitness 16 Queens \", MIMIC_16_queens[1])\n",
    "\n",
    "print(\"Best State 24 Queens \" , MIMIC_24_queens[0]) \n",
    "print(\"Best Fitness 24 Queens \", MIMIC_24_queens[1])\n",
    "\n",
    "print(\"Best State 32 Queens \" , MIMIC_32_queens[0]) \n",
    "print(\"Best Fitness 32 Queens \", MIMIC_32_queens[1])"
   ]
  },
  {
   "cell_type": "code",
   "execution_count": 336,
   "id": "2ee80c7a-1823-4020-8297-96d8c217d9c0",
   "metadata": {},
   "outputs": [],
   "source": [
    "random_hill_climbing_best_fitness = np.array([Random_Hilll_Climbing_8_Queens[1], Random_Hilll_Climbing_16_Queens[1], Random_Hilll_Climbing_24_Queens[1], Random_Hilll_Climbing_32_Queens[1]])\n",
    "SA_best_fitness = np.array([Simulated_Annealing_8_Queens[1], Simulated_Annealing_16_Queens[1], Simulated_Annealing_24_Queens[1], Simulated_Annealing_32_Queens[1]])\n",
    "GA_climbing_best_fitness = np.array([Genetic_Algo_8_queens[1], Genetic_Algo_16_queens[1], Genetic_Algo_24_queens[1], Genetic_Algo_32_queens[1]])\n",
    "MIMIC_climbing_best_fitness = np.array([MIMIC_8_queens[1], MIMIC_16_queens[1], MIMIC_24_queens[1], MIMIC_32_queens[1]])\n",
    "\n",
    "times_random_hill_climbing = np.array([time_RHC_8_queens, time_RHC_16_queens, time_RHC_24_queens, time_RHC_32_queens])\n",
    "times_SA = np.array([time_SA_8_queens, time_SA_16_queens, time_SA_24_queens, time_SA_32_queens])\n",
    "times_GA = np.array([GA_8_queens_time, GA_16_queens_time, GA_24_queens_time, GA_32_queens_time])\n",
    "times_MIMIC = np.array([MIMIC_8_queens_time, MIMIC_16_queens_time, MIMIC_24_queens_time, MIMIC_32_queens_time])"
   ]
  },
  {
   "cell_type": "code",
   "execution_count": 337,
   "id": "0159ee22-3b04-42ae-b6ac-140190ac6ebc",
   "metadata": {},
   "outputs": [],
   "source": [
    "import matplotlib.pyplot as plt"
   ]
  },
  {
   "cell_type": "code",
   "execution_count": 338,
   "id": "0ca45a55-16ea-4696-a72d-ae7bdec17980",
   "metadata": {},
   "outputs": [
    {
     "data": {
      "text/plain": [
       "<matplotlib.legend.Legend at 0x20f56b9e4e0>"
      ]
     },
     "execution_count": 338,
     "metadata": {},
     "output_type": "execute_result"
    },
    {
     "data": {
      "image/png": "[encoded data removed]",
      "text/plain": [
       "<Figure size 432x288 with 1 Axes>"
      ]
     },
     "metadata": {
      "needs_background": "light"
     },
     "output_type": "display_data"
    }
   ],
   "source": [
    "# PLOT BEST FITNESS VALUE\n",
    "\n",
    "queens_size = np.array([8,16,24,32])\n",
    "plt.figure()\n",
    "plt.plot(queens_size, random_hill_climbing_best_fitness, label='Random Hill Climb')\n",
    "plt.plot(queens_size, SA_best_fitness, label='Simulated Annealing')\n",
    "plt.plot(queens_size, GA_climbing_best_fitness, label='Genetic Algorithm')\n",
    "plt.plot(queens_size, MIMIC_climbing_best_fitness, label='MIMIC')\n",
    "plt.legend()"
   ]
  },
  {
   "cell_type": "code",
   "execution_count": 339,
   "id": "f852cfa9-e11c-460b-8da9-fa4aff41d230",
   "metadata": {},
   "outputs": [
    {
     "data": {
      "text/plain": [
       "<matplotlib.legend.Legend at 0x20f56514320>"
      ]
     },
     "execution_count": 339,
     "metadata": {},
     "output_type": "execute_result"
    },
    {
     "data": {
      "image/png": "[encoded data removed]",
      "text/plain": [
       "<Figure size 432x288 with 1 Axes>"
      ]
     },
     "metadata": {
      "needs_background": "light"
     },
     "output_type": "display_data"
    }
   ],
   "source": [
    "# PLOT TIMES \n",
    "\n",
    "plt.figure()\n",
    "plt.plot(queens_size, times_random_hill_climbing, label='Random Hill Climb')\n",
    "plt.plot(queens_size, times_SA, label='Simulated Annealing')\n",
    "plt.plot(queens_size, times_GA, label='Genetic Algorithm')\n",
    "plt.plot(queens_size, times_MIMIC, label='MIMIC')\n",
    "plt.legend()\n"
   ]
  },
  {
   "cell_type": "code",
   "execution_count": 165,
   "id": "ec2c3dee-fc58-4a4b-aa99-fb9a10d73d9c",
   "metadata": {},
   "outputs": [
    {
     "data": {
      "text/plain": [
       "array([  402.,   604.,   806.,  1007.,  1208.,  1409.,  1610.,  1811.,\n",
       "        2012.,  2213.,  2414.,  2615.,  2816.,  3017.,  3218.,  3419.,\n",
       "        3620.,  3821.,  4022.,  4223.,  4424.,  4625.,  4826.,  5027.,\n",
       "        5228.,  5429.,  5630.,  5831.,  6032.,  6233.,  6434.,  6635.,\n",
       "        6836.,  7037.,  7238.,  7439.,  7640.,  7841.,  8042.,  8243.,\n",
       "        8444.,  8645.,  8846.,  9047.,  9248.,  9449.,  9650.,  9851.,\n",
       "       10052., 10253., 10454., 10655., 10856., 11057., 11258., 11459.,\n",
       "       11660., 11861., 12062., 12263., 12464., 12665., 12866., 13067.,\n",
       "       13268., 13469., 13670., 13871., 14072., 14273., 14474., 14675.,\n",
       "       14876., 15077., 15278., 15479., 15680., 15881., 16082., 16283.,\n",
       "       16484., 16685., 16886., 17087., 17288., 17489., 17690., 17891.,\n",
       "       18092., 18293., 18494., 18695., 18896., 19097., 19298., 19499.,\n",
       "       19700., 19901., 20102., 20303., 20504., 20705., 20906.])"
      ]
     },
     "execution_count": 165,
     "metadata": {},
     "output_type": "execute_result"
    }
   ],
   "source": [
    "MIMIC[2][:,1]"
   ]
  },
  {
   "cell_type": "code",
   "execution_count": 340,
   "id": "58700141-cc7e-4bb7-9d6c-25aa59aa3693",
   "metadata": {},
   "outputs": [],
   "source": [
    "# PLOT OF FITNESS CURVE WITH 64 QUEENS\n",
    "\n",
    "problem_64 =  mlrose.DiscreteOpt(length = 64, fitness_fn = fitness_cust, maximize = False, max_val = 64)\n",
    "\n",
    "start_time = time.time()\n",
    "Random_Hilll_Climbing_64_Queens = mlrose.random_hill_climb(problem = problem_64, max_iters  = 100000, max_attempts =1000, curve=True, random_state = 1)               \n",
    "end_time = time.time()\n",
    "time_RHC_64 = end_time - start_time\n",
    "\n",
    "start_time = time.time()\n",
    "Simulated_Annealing_64_Queens = mlrose.simulated_annealing(problem=problem_64, schedule = schedule, max_attempts = 1000, max_iters=100000, random_state = 1, curve=True)\n",
    "end_time = time.time()\n",
    "time_SA_64 = end_time - start_time\n",
    "\n",
    "start_time = time.time()\n",
    "Genetic_Algo_64_queens = mlrose.genetic_alg(problem=problem_64, pop_size=500, mutation_prob=0.1, max_attempts = 1000, max_iters = 100000, curve=True)\n",
    "end_time = time.time()\n",
    "time_GA_64 = end_time - start_time\n",
    "\n",
    "start_time = time.time()\n",
    "MIMIC_64_queens = mlrose.mimic(problem = problem_64, pop_size=500, keep_pct=0.2, max_attempts=1000, max_iters=100000, curve=True)\n",
    "end_time = time.time()\n",
    "time_MIMIC_64 = end_time - start_time\n",
    "\n"
   ]
  },
  {
   "cell_type": "code",
   "execution_count": 341,
   "id": "01f208ac-9750-48bd-8637-348897fd7a54",
   "metadata": {},
   "outputs": [
    {
     "data": {
      "text/plain": [
       "<matplotlib.legend.Legend at 0x20f56ae7cc0>"
      ]
     },
     "execution_count": 341,
     "metadata": {},
     "output_type": "execute_result"
    },
    {
     "data": {
      "image/png": "[encoded data removed]",
      "text/plain": [
       "<Figure size 432x288 with 1 Axes>"
      ]
     },
     "metadata": {
      "needs_background": "light"
     },
     "output_type": "display_data"
    }
   ],
   "source": [
    "plt.figure()\n",
    "plt.plot(Random_Hilll_Climbing_64_Queens[2][:,0], label='Random Hill Climb')\n",
    "plt.plot(Simulated_Annealing_64_Queens[2][:,0], label='Simulated Annealing')\n",
    "plt.plot(Genetic_Algo_64_queens[2][:,0], label='Genetic Algorithm')\n",
    "plt.plot(MIMIC_64_queens[2][:,0], label='MIMIC')\n",
    "plt.legend()"
   ]
  },
  {
   "cell_type": "code",
   "execution_count": 342,
   "id": "a10be8e6-5d95-4166-8430-57ce35a1bac6",
   "metadata": {},
   "outputs": [
    {
     "name": "stdout",
     "output_type": "stream",
     "text": [
      "Time for Random Hill Climbing:  14.089449882507324\n",
      "Time for SA:  11.998857021331787\n",
      "Time for GA:  326.841233253479\n",
      "Time for MIMIC:  3037.2999110221863\n"
     ]
    }
   ],
   "source": [
    "print(\"Time for Random Hill Climbing: \", time_RHC_64)\n",
    "print(\"Time for SA: \", time_SA_64)\n",
    "print(\"Time for GA: \", time_GA_64)\n",
    "print(\"Time for MIMIC: \", time_MIMIC_64)"
   ]
  },
  {
   "cell_type": "code",
   "execution_count": 344,
   "id": "e5e55e3d-4707-4337-89b7-786f3b44f256",
   "metadata": {},
   "outputs": [
    {
     "name": "stdout",
     "output_type": "stream",
     "text": [
      "Fitness for Random Hill Climbing:  443.0\n",
      "Fitness for SA:  239.0\n",
      "Fitness for GA:  0.0\n",
      "Fitness for MIMIC:  1883.0\n"
     ]
    }
   ],
   "source": [
    "print(\"Fitness for Random Hill Climbing: \", Random_Hilll_Climbing_64_Queens[1])\n",
    "print(\"Fitness for SA: \", Simulated_Annealing_64_Queens[1])\n",
    "print(\"Fitness for GA: \", Genetic_Algo_64_queens[1])\n",
    "print(\"Fitness for MIMIC: \", MIMIC_64_queens[1])"
   ]
  },
  {
   "cell_type": "code",
   "execution_count": null,
   "id": "9e4ab622-a622-4bf7-93ff-ec5706ba5fab",
   "metadata": {},
   "outputs": [],
   "source": []
  }
 ],
 "metadata": {
  "kernelspec": {
   "display_name": "Python 3 (ipykernel)",
   "language": "python",
   "name": "python3"
  },
  "language_info": {
   "codemirror_mode": {
    "name": "ipython",
    "version": 3
   },
   "file_extension": ".py",
   "mimetype": "text/x-python",
   "name": "python",
   "nbconvert_exporter": "python",
   "pygments_lexer": "ipython3",
   "version": "3.7.3"
  }
 },
 "nbformat": 4,
 "nbformat_minor": 5
}
