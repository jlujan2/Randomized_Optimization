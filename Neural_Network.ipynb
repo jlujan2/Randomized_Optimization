{
 "cells": [
  {
   "cell_type": "code",
   "execution_count": 120,
   "id": "602d9100-1915-486b-b7f0-69d1bef98f32",
   "metadata": {},
   "outputs": [],
   "source": [
    "import mlrose_hiive as mlrose\n",
    "import numpy as np\n",
    "import time\n",
    "\n",
    "from sklearn.preprocessing import LabelEncoder\n",
    "import pandas as pd\n",
    "from sklearn.model_selection import train_test_split\n",
    "from sklearn import metrics\n",
    "from sklearn import preprocessing\n",
    "import time\n",
    "from sklearn.metrics import confusion_matrix\n",
    "from sklearn.metrics import f1_score\n",
    "from sklearn.metrics import accuracy_score\n",
    "from sklearn import metrics"
   ]
  },
  {
   "cell_type": "code",
   "execution_count": 121,
   "id": "b8ee7a79-aefc-4cc8-9578-41093eb5bd5e",
   "metadata": {},
   "outputs": [],
   "source": [
    "data = pd.read_csv('C:/Users/Juan Carlos/Downloads/diabetes.csv', sep=',', header=0)\n",
    "data.head()\n",
    "data = data.dropna()"
   ]
  },
  {
   "cell_type": "code",
   "execution_count": 139,
   "id": "84909218-6f6f-4f59-81b4-6062d5698f2b",
   "metadata": {},
   "outputs": [],
   "source": [
    "X = data.values[: , 0:8]\n",
    "Y = data.values[: ,8]\n",
    "\n",
    "X_train, X_test, Y_train, Y_test = train_test_split(X, Y,\n",
    "                                                    test_size = 0.3)"
   ]
  },
  {
   "cell_type": "code",
   "execution_count": 146,
   "id": "4c58293e-f01e-4369-be93-446993f42d49",
   "metadata": {},
   "outputs": [],
   "source": [
    "# Learning Rate = 0.001\n",
    "\n",
    "start_time = time.time()\n",
    "Random_CLimbing_Neural_Network = mlrose.NeuralNetwork(hidden_nodes= (10,10,10), activation='relu', algorithm='random_hill_climb', max_iters=10000,max_attempts=100, random_state=1, curve=True, is_classifier = True, learning_rate = 0.001)\n",
    "Random_CLimbing_Neural_Network.fit(X_train, y_train)\n",
    "end_time = time.time()\n",
    "RHC_time_NN_LR_001 = end_time - start_time"
   ]
  },
  {
   "cell_type": "code",
   "execution_count": 159,
   "id": "971119dc-287a-4695-8274-5dda462d4575",
   "metadata": {},
   "outputs": [
    {
     "name": "stdout",
     "output_type": "stream",
     "text": [
      "0.5584415584415584\n",
      "Time Speed RHC LR = 0.001 -12.870110988616943\n"
     ]
    }
   ],
   "source": [
    "\n",
    "y_pred = Random_CLimbing_Neural_Network.predict(X_test)\n",
    "cm = confusion_matrix(Y_test, y_pred)\n",
    "\n",
    "print(accuracy_score(Y_test, y_pred))\n",
    "print(\"Time Speed RHC LR = 0.001\", RHC_time_NN)"
   ]
  },
  {
   "cell_type": "code",
   "execution_count": 148,
   "id": "7755eee6-fa12-4018-9e95-e99a15de9d1b",
   "metadata": {},
   "outputs": [],
   "source": [
    "# Learning Rate = 0.01\n",
    "\n",
    "start_time = time.time()\n",
    "Random_CLimbing_Neural_Network = mlrose.NeuralNetwork(hidden_nodes= (20,20,20), activation='relu', algorithm='random_hill_climb', max_iters=10000,max_attempts=100, random_state=1, curve=True, is_classifier = True, learning_rate = 0.01)\n",
    "Random_CLimbing_Neural_Network.fit(X_train, y_train)\n",
    "end_time = time.time()\n",
    "RHC_time_NN_LR_01 = end_time - start_time"
   ]
  },
  {
   "cell_type": "code",
   "execution_count": 160,
   "id": "12f0c566-7e0c-4116-b038-793c4eca8ad8",
   "metadata": {},
   "outputs": [
    {
     "name": "stdout",
     "output_type": "stream",
     "text": [
      "0.5584415584415584\n",
      "Time Speed RHC LR = 0.01 17.047305583953857\n"
     ]
    }
   ],
   "source": [
    "y_pred = Random_CLimbing_Neural_Network.predict(X_test)\n",
    "cm = confusion_matrix(Y_test, y_pred)\n",
    "\n",
    "print(accuracy_score(Y_test, y_pred))\n",
    "print(\"Time Speed RHC LR = 0.01\", RHC_time_NN_LR_01)"
   ]
  },
  {
   "cell_type": "code",
   "execution_count": 150,
   "id": "8313bf0d-e7f2-4239-8416-8dcc081fde24",
   "metadata": {},
   "outputs": [],
   "source": [
    "# Learning Rate = 0.1\n",
    "\n",
    "start_time = time.time()\n",
    "Random_CLimbing_Neural_Network = mlrose.NeuralNetwork(hidden_nodes= (40,40,40), activation='relu', algorithm='random_hill_climb', max_iters=10000,max_attempts=100, random_state=1, curve=True, is_classifier = True, learning_rate = 0.1)\n",
    "Random_CLimbing_Neural_Network.fit(X_train, y_train)\n",
    "end_time = time.time()\n",
    "RHC_time_NN_LR_1 = end_time - start_time"
   ]
  },
  {
   "cell_type": "code",
   "execution_count": 161,
   "id": "0f73986a-c525-4b77-8025-f7dd0b1c9f52",
   "metadata": {},
   "outputs": [
    {
     "name": "stdout",
     "output_type": "stream",
     "text": [
      "0.5584415584415584\n",
      "Time Speed RHC LR = 0.1 17.047305583953857\n"
     ]
    }
   ],
   "source": [
    "y_pred = Random_CLimbing_Neural_Network.predict(X_test)\n",
    "cm = confusion_matrix(Y_test, y_pred)\n",
    "\n",
    "print(accuracy_score(Y_test, y_pred))\n",
    "print(\"Time Speed RHC LR = 0.1\", RHC_time_NN_LR_01)"
   ]
  },
  {
   "cell_type": "code",
   "execution_count": 156,
   "id": "6fd35d46-367b-4c4b-bdbc-9741ec30f7c5",
   "metadata": {},
   "outputs": [],
   "source": [
    "from keras.models import Sequential\n",
    "from keras.layers import Dense, Activation, Dropout\n",
    "\n",
    "model = Sequential()\n",
    "model.add(Dense(16, input_dim=8, activation='relu')) \n",
    "model.add(Dropout(0.2))\n",
    "model.add(Dense(1)) \n",
    "model.add(Activation('sigmoid'))  \n",
    "model.compile(loss='binary_crossentropy',\n",
    "              optimizer='adam',             #also try adam\n",
    "              metrics=['accuracy'])"
   ]
  },
  {
   "cell_type": "code",
   "execution_count": 157,
   "id": "abaeb24c-a02b-4b02-8cd7-6232432a332f",
   "metadata": {},
   "outputs": [
    {
     "name": "stdout",
     "output_type": "stream",
     "text": [
      "WARNING:tensorflow:From C:\\Users\\Juan Carlos\\Anaconda3\\lib\\site-packages\\keras\\backend\\tensorflow_backend.py:422: The name tf.global_variables is deprecated. Please use tf.compat.v1.global_variables instead.\n",
      "\n",
      "Train on 537 samples, validate on 231 samples\n",
      "Epoch 1/50\n",
      "537/537 [==============================] - 0s 378us/step - loss: 25.9012 - accuracy: 0.6462 - val_loss: 26.5521 - val_accuracy: 0.6234\n",
      "Epoch 2/50\n",
      "537/537 [==============================] - 0s 29us/step - loss: 21.8383 - accuracy: 0.6462 - val_loss: 21.8183 - val_accuracy: 0.6234\n",
      "Epoch 3/50\n",
      "537/537 [==============================] - 0s 29us/step - loss: 19.5120 - accuracy: 0.6052 - val_loss: 17.4916 - val_accuracy: 0.6234\n",
      "Epoch 4/50\n",
      "537/537 [==============================] - 0s 0us/step - loss: 18.1423 - accuracy: 0.6071 - val_loss: 13.6152 - val_accuracy: 0.6234\n",
      "Epoch 5/50\n",
      "537/537 [==============================] - 0s 29us/step - loss: 12.8415 - accuracy: 0.6518 - val_loss: 9.7295 - val_accuracy: 0.6234\n",
      "Epoch 6/50\n",
      "537/537 [==============================] - 0s 29us/step - loss: 10.3295 - accuracy: 0.6108 - val_loss: 6.0664 - val_accuracy: 0.6147\n",
      "Epoch 7/50\n",
      "537/537 [==============================] - 0s 29us/step - loss: 9.2392 - accuracy: 0.5475 - val_loss: 3.7373 - val_accuracy: 0.5411\n",
      "Epoch 8/50\n",
      "537/537 [==============================] - 0s 0us/step - loss: 8.7753 - accuracy: 0.5102 - val_loss: 3.1876 - val_accuracy: 0.5108\n",
      "Epoch 9/50\n",
      "537/537 [==============================] - 0s 29us/step - loss: 9.8320 - accuracy: 0.4693 - val_loss: 3.0162 - val_accuracy: 0.5065\n",
      "Epoch 10/50\n",
      "537/537 [==============================] - 0s 29us/step - loss: 8.3002 - accuracy: 0.4972 - val_loss: 3.0768 - val_accuracy: 0.5325\n",
      "Epoch 11/50\n",
      "537/537 [==============================] - 0s 29us/step - loss: 8.1668 - accuracy: 0.5196 - val_loss: 3.0549 - val_accuracy: 0.5325\n",
      "Epoch 12/50\n",
      "537/537 [==============================] - 0s 0us/step - loss: 7.2900 - accuracy: 0.5289 - val_loss: 2.9440 - val_accuracy: 0.5541\n",
      "Epoch 13/50\n",
      "537/537 [==============================] - 0s 0us/step - loss: 7.5108 - accuracy: 0.5047 - val_loss: 2.8108 - val_accuracy: 0.5498\n",
      "Epoch 14/50\n",
      "537/537 [==============================] - 0s 29us/step - loss: 6.1651 - accuracy: 0.5177 - val_loss: 2.5906 - val_accuracy: 0.5541\n",
      "Epoch 15/50\n",
      "537/537 [==============================] - 0s 29us/step - loss: 5.9421 - accuracy: 0.5307 - val_loss: 2.3766 - val_accuracy: 0.5281\n",
      "Epoch 16/50\n",
      "537/537 [==============================] - 0s 29us/step - loss: 5.5654 - accuracy: 0.5531 - val_loss: 2.2117 - val_accuracy: 0.5281\n",
      "Epoch 17/50\n",
      "537/537 [==============================] - 0s 0us/step - loss: 6.5797 - accuracy: 0.5158 - val_loss: 2.0917 - val_accuracy: 0.5411\n",
      "Epoch 18/50\n",
      "537/537 [==============================] - 0s 29us/step - loss: 5.4339 - accuracy: 0.5158 - val_loss: 2.0629 - val_accuracy: 0.5411\n",
      "Epoch 19/50\n",
      "537/537 [==============================] - 0s 29us/step - loss: 6.3359 - accuracy: 0.5158 - val_loss: 2.0164 - val_accuracy: 0.5584\n",
      "Epoch 20/50\n",
      "537/537 [==============================] - 0s 29us/step - loss: 4.8227 - accuracy: 0.5549 - val_loss: 1.9087 - val_accuracy: 0.5584\n",
      "Epoch 21/50\n",
      "537/537 [==============================] - 0s 29us/step - loss: 4.9304 - accuracy: 0.5493 - val_loss: 1.7556 - val_accuracy: 0.5498\n",
      "Epoch 22/50\n",
      "537/537 [==============================] - 0s 0us/step - loss: 4.6488 - accuracy: 0.5493 - val_loss: 1.7440 - val_accuracy: 0.5844\n",
      "Epoch 23/50\n",
      "537/537 [==============================] - 0s 29us/step - loss: 4.0583 - accuracy: 0.6034 - val_loss: 1.6549 - val_accuracy: 0.6277\n",
      "Epoch 24/50\n",
      "537/537 [==============================] - 0s 29us/step - loss: 4.5999 - accuracy: 0.5698 - val_loss: 1.4487 - val_accuracy: 0.6277\n",
      "Epoch 25/50\n",
      "537/537 [==============================] - 0s 29us/step - loss: 3.4203 - accuracy: 0.6182 - val_loss: 1.2630 - val_accuracy: 0.6580\n",
      "Epoch 26/50\n",
      "537/537 [==============================] - 0s 29us/step - loss: 3.7646 - accuracy: 0.5587 - val_loss: 1.3355 - val_accuracy: 0.6537\n",
      "Epoch 27/50\n",
      "537/537 [==============================] - 0s 29us/step - loss: 3.9169 - accuracy: 0.5959 - val_loss: 1.5338 - val_accuracy: 0.6494\n",
      "Epoch 28/50\n",
      "537/537 [==============================] - 0s 0us/step - loss: 3.1512 - accuracy: 0.5885 - val_loss: 1.1865 - val_accuracy: 0.6623\n",
      "Epoch 29/50\n",
      "537/537 [==============================] - 0s 29us/step - loss: 3.7113 - accuracy: 0.5829 - val_loss: 1.1576 - val_accuracy: 0.6710\n",
      "Epoch 30/50\n",
      "537/537 [==============================] - 0s 0us/step - loss: 3.9495 - accuracy: 0.5885 - val_loss: 1.3271 - val_accuracy: 0.6580\n",
      "Epoch 31/50\n",
      "537/537 [==============================] - 0s 29us/step - loss: 2.7470 - accuracy: 0.5922 - val_loss: 1.2686 - val_accuracy: 0.6667\n",
      "Epoch 32/50\n",
      "537/537 [==============================] - 0s 29us/step - loss: 3.2416 - accuracy: 0.6089 - val_loss: 1.1464 - val_accuracy: 0.6623\n",
      "Epoch 33/50\n",
      "537/537 [==============================] - 0s 29us/step - loss: 2.6777 - accuracy: 0.6387 - val_loss: 1.1490 - val_accuracy: 0.6667\n",
      "Epoch 34/50\n",
      "537/537 [==============================] - 0s 29us/step - loss: 3.2077 - accuracy: 0.5866 - val_loss: 1.1248 - val_accuracy: 0.6623\n",
      "Epoch 35/50\n",
      "537/537 [==============================] - 0s 0us/step - loss: 2.7992 - accuracy: 0.6182 - val_loss: 1.0651 - val_accuracy: 0.6797\n",
      "Epoch 36/50\n",
      "537/537 [==============================] - 0s 29us/step - loss: 2.5980 - accuracy: 0.6238 - val_loss: 1.0319 - val_accuracy: 0.6797\n",
      "Epoch 37/50\n",
      "537/537 [==============================] - 0s 29us/step - loss: 2.5333 - accuracy: 0.6145 - val_loss: 1.0268 - val_accuracy: 0.6753\n",
      "Epoch 38/50\n",
      "537/537 [==============================] - 0s 29us/step - loss: 2.5610 - accuracy: 0.5996 - val_loss: 1.0291 - val_accuracy: 0.6710\n",
      "Epoch 39/50\n",
      "537/537 [==============================] - 0s 0us/step - loss: 2.5464 - accuracy: 0.6108 - val_loss: 1.1090 - val_accuracy: 0.6537\n",
      "Epoch 40/50\n",
      "537/537 [==============================] - 0s 29us/step - loss: 2.6033 - accuracy: 0.6034 - val_loss: 1.0378 - val_accuracy: 0.6623\n",
      "Epoch 41/50\n",
      "537/537 [==============================] - 0s 29us/step - loss: 2.3866 - accuracy: 0.5866 - val_loss: 0.9612 - val_accuracy: 0.6883\n",
      "Epoch 42/50\n",
      "537/537 [==============================] - 0s 29us/step - loss: 2.1833 - accuracy: 0.5922 - val_loss: 0.9750 - val_accuracy: 0.6753\n",
      "Epoch 43/50\n",
      "537/537 [==============================] - 0s 29us/step - loss: 2.1280 - accuracy: 0.6276 - val_loss: 0.9543 - val_accuracy: 0.6753\n",
      "Epoch 44/50\n",
      "537/537 [==============================] - 0s 0us/step - loss: 1.7324 - accuracy: 0.6145 - val_loss: 0.9189 - val_accuracy: 0.6753\n",
      "Epoch 45/50\n",
      "537/537 [==============================] - 0s 29us/step - loss: 2.1477 - accuracy: 0.5810 - val_loss: 0.9384 - val_accuracy: 0.6710\n",
      "Epoch 46/50\n",
      "537/537 [==============================] - 0s 29us/step - loss: 1.9142 - accuracy: 0.6127 - val_loss: 1.0066 - val_accuracy: 0.6537\n",
      "Epoch 47/50\n",
      "537/537 [==============================] - 0s 29us/step - loss: 2.2748 - accuracy: 0.5810 - val_loss: 0.8880 - val_accuracy: 0.6710\n",
      "Epoch 48/50\n",
      "537/537 [==============================] - 0s 29us/step - loss: 1.9841 - accuracy: 0.5661 - val_loss: 0.8267 - val_accuracy: 0.6840\n",
      "Epoch 49/50\n",
      "537/537 [==============================] - 0s 0us/step - loss: 1.7156 - accuracy: 0.5978 - val_loss: 0.8615 - val_accuracy: 0.6753\n",
      "Epoch 50/50\n",
      "537/537 [==============================] - 0s 29us/step - loss: 1.6503 - accuracy: 0.6182 - val_loss: 0.8266 - val_accuracy: 0.6797\n",
      "231/231 [==============================] - 0s 0us/step\n",
      "Accuracy =  67.96537041664124 %\n"
     ]
    },
    {
     "data": {
      "image/png": "[encoded data removed]",
      "text/plain": [
       "<Figure size 432x288 with 1 Axes>"
      ]
     },
     "metadata": {
      "needs_background": "light"
     },
     "output_type": "display_data"
    },
    {
     "data": {
      "image/png": "[encoded data removed]",
      "text/plain": [
       "<Figure size 432x288 with 1 Axes>"
      ]
     },
     "metadata": {
      "needs_background": "light"
     },
     "output_type": "display_data"
    }
   ],
   "source": [
    "import matplotlib.pyplot as plt\n",
    "\n",
    "history = model.fit(X_train, Y_train ,verbose=1, epochs=50, batch_size=64,\n",
    "                    validation_data=(X_test, Y_test))\n",
    "\n",
    "_, acc = model.evaluate(X_test, Y_test)\n",
    "print(\"Accuracy = \", (acc * 100.0), \"%\")\n",
    "\n",
    "\n",
    "#plot the training and validation accuracy and loss at each epoch\n",
    "loss = history.history['loss']\n",
    "val_loss = history.history['val_loss']\n",
    "epochs = range(1, len(loss) + 1)\n",
    "plt.plot(epochs, loss, 'y', label='Training loss')\n",
    "plt.plot(epochs, val_loss, 'r', label='Validation loss')\n",
    "plt.title('Training and validation loss')\n",
    "plt.xlabel('Epochs')\n",
    "plt.ylabel('Loss')\n",
    "plt.legend()\n",
    "plt.show()\n",
    "\n",
    "acc = history.history['accuracy']\n",
    "val_acc = history.history['val_accuracy']\n",
    "plt.plot(epochs, acc, 'y', label='Training acc')\n",
    "plt.plot(epochs, val_acc, 'r', label='Validation acc')\n",
    "plt.title('Training and validation accuracy')\n",
    "plt.xlabel('Epochs')\n",
    "plt.ylabel('Accuracy')\n",
    "plt.legend()\n",
    "plt.show()"
   ]
  },
  {
   "cell_type": "markdown",
   "id": "50298886-9f41-419e-9f42-cf1b7a837404",
   "metadata": {},
   "source": [
    "Simulated Annealing"
   ]
  },
  {
   "cell_type": "code",
   "execution_count": 164,
   "id": "89ac238d-360e-41a9-82fc-bf560baa8b57",
   "metadata": {},
   "outputs": [],
   "source": [
    "# Schedule ExpDecay\n",
    "\n",
    "start_time = time.time()\n",
    "Simulated_Anealing = mlrose.NeuralNetwork(schedule= mlrose.ExpDecay(),hidden_nodes= (10,10,10), activation='relu', algorithm='simulated_annealing', max_iters=10000,max_attempts=100, random_state=1, curve=True, is_classifier = True)\n",
    "Simulated_Anealing.fit(X_train, y_train)\n",
    "end_time = time.time()\n",
    "SA_ExpDecay = end_time - start_time"
   ]
  },
  {
   "cell_type": "code",
   "execution_count": 166,
   "id": "80e4baec-7132-4a67-81f0-482bff330f0f",
   "metadata": {},
   "outputs": [
    {
     "name": "stdout",
     "output_type": "stream",
     "text": [
      "0.5584415584415584\n",
      "Time Speed SA ExpDecay 16.476603746414185\n"
     ]
    }
   ],
   "source": [
    "y_pred = Simulated_Anealing.predict(X_test)\n",
    "cm = confusion_matrix(Y_test, y_pred)\n",
    "\n",
    "print(accuracy_score(Y_test, y_pred))\n",
    "print(\"Time Speed SA ExpDecay\", SA_ExpDecay)"
   ]
  },
  {
   "cell_type": "code",
   "execution_count": 167,
   "id": "71e20d03-bd64-4f5a-a968-802293bb70dd",
   "metadata": {},
   "outputs": [],
   "source": [
    "# GeomDecay \n",
    "\n",
    "start_time = time.time()\n",
    "Simulated_Anealing = mlrose.NeuralNetwork(schedule= mlrose.GeomDecay(),hidden_nodes= (10,10,10), activation='relu', algorithm='simulated_annealing', max_iters=10000,max_attempts=100, random_state=1, curve=True, is_classifier = True)\n",
    "Simulated_Anealing.fit(X_train, y_train)\n",
    "end_time = time.time()\n",
    "SA_GeomDecay = end_time - start_time"
   ]
  },
  {
   "cell_type": "code",
   "execution_count": 168,
   "id": "e3ec5fb4-bb83-41d6-88ba-ce1fcbd64cbf",
   "metadata": {},
   "outputs": [
    {
     "name": "stdout",
     "output_type": "stream",
     "text": [
      "0.5844155844155844\n",
      "Time Speed SA ExpDecay 17.164803743362427\n"
     ]
    }
   ],
   "source": [
    "y_pred = Simulated_Anealing.predict(X_test)\n",
    "cm = confusion_matrix(Y_test, y_pred)\n",
    "\n",
    "print(accuracy_score(Y_test, y_pred))\n",
    "print(\"Time Speed SA GeomDecay\", SA_GeomDecay)"
   ]
  },
  {
   "cell_type": "code",
   "execution_count": 169,
   "id": "e5ef110c-ff7b-4e36-b350-7cb5edf33416",
   "metadata": {},
   "outputs": [],
   "source": [
    "# ArithDecay \n",
    "\n",
    "start_time = time.time()\n",
    "Simulated_Anealing = mlrose.NeuralNetwork(schedule= mlrose.ArithDecay(),hidden_nodes= (10,10,10), activation='relu', algorithm='simulated_annealing', max_iters=10000,max_attempts=100, random_state=1, curve=True, is_classifier = True)\n",
    "Simulated_Anealing.fit(X_train, y_train)\n",
    "end_time = time.time()\n",
    "SA_ArithDecay = end_time - start_time"
   ]
  },
  {
   "cell_type": "code",
   "execution_count": 170,
   "id": "4c8f6fa5-c428-4b15-b38b-820524613244",
   "metadata": {},
   "outputs": [
    {
     "name": "stdout",
     "output_type": "stream",
     "text": [
      "0.6233766233766234\n",
      "Time Speed SA ExpDecay 22.199495553970337\n"
     ]
    }
   ],
   "source": [
    "y_pred = Simulated_Anealing.predict(X_test)\n",
    "cm = confusion_matrix(Y_test, y_pred)\n",
    "\n",
    "print(accuracy_score(Y_test, y_pred))\n",
    "print(\"Time Speed SA ArithDecay\", SA_ArithDecay)"
   ]
  },
  {
   "cell_type": "code",
   "execution_count": null,
   "id": "1477dbb9-3041-4a79-b411-292c08daeb2f",
   "metadata": {},
   "outputs": [],
   "source": [
    "from keras.models import Sequential\n",
    "from keras.layers import Dense, Activation, Dropout\n",
    "\n",
    "model = Sequential()\n",
    "model.add(Dense(16, input_dim=8, activation='relu')) \n",
    "model.add(Dropout(0.2))\n",
    "model.add(Dense(1)) \n",
    "model.add(Activation('sigmoid'))  \n",
    "model.compile(loss='binary_crossentropy',\n",
    "              optimizer='adam',             #also try adam\n",
    "              metrics=['accuracy'])"
   ]
  },
  {
   "cell_type": "code",
   "execution_count": null,
   "id": "fad8ef85-9325-477d-bcc6-265bb21c0529",
   "metadata": {},
   "outputs": [],
   "source": [
    "import matplotlib.pyplot as plt\n",
    "\n",
    "history = model.fit(X_train, Y_train ,verbose=1, epochs=50, batch_size=64,\n",
    "                    validation_data=(X_test, Y_test))\n",
    "\n",
    "_, acc = model.evaluate(X_test, Y_test)\n",
    "print(\"Accuracy = \", (acc * 100.0), \"%\")\n",
    "\n",
    "\n",
    "#plot the training and validation accuracy and loss at each epoch\n",
    "loss = history.history['loss']\n",
    "val_loss = history.history['val_loss']\n",
    "epochs = range(1, len(loss) + 1)\n",
    "plt.plot(epochs, loss, 'y', label='Training loss')\n",
    "plt.plot(epochs, val_loss, 'r', label='Validation loss')\n",
    "plt.title('Training and validation loss')\n",
    "plt.xlabel('Epochs')\n",
    "plt.ylabel('Loss')\n",
    "plt.legend()\n",
    "plt.show()\n",
    "\n",
    "acc = history.history['accuracy']\n",
    "val_acc = history.history['val_accuracy']\n",
    "plt.plot(epochs, acc, 'y', label='Training acc')\n",
    "plt.plot(epochs, val_acc, 'r', label='Validation acc')\n",
    "plt.title('Training and validation accuracy')\n",
    "plt.xlabel('Epochs')\n",
    "plt.ylabel('Accuracy')\n",
    "plt.legend()\n",
    "plt.show()"
   ]
  },
  {
   "cell_type": "markdown",
   "id": "2477fa10-7803-4dfa-95ca-ad960ef60dbc",
   "metadata": {},
   "source": [
    "Genetic Algorithm "
   ]
  },
  {
   "cell_type": "code",
   "execution_count": 173,
   "id": "2564ac13-eb32-4c3d-b37f-8d370c01d68d",
   "metadata": {},
   "outputs": [],
   "source": [
    "# Population 200\n",
    "\n",
    "start_time = time.time()\n",
    "Genetic_Algorithm = mlrose.NeuralNetwork(pop_size = 200, mutation_prob=0.2 ,hidden_nodes= (10,10,10), activation='relu', algorithm='genetic_alg', max_iters=10000,max_attempts=100, random_state=1, curve=True, is_classifier = True)\n",
    "Genetic_Algorithm.fit(X_train, y_train)\n",
    "end_time = time.time()\n",
    "GA_200_pop = end_time - start_time"
   ]
  },
  {
   "cell_type": "code",
   "execution_count": 174,
   "id": "a7b5ff48-eb27-4904-83a1-c0289d08f7a9",
   "metadata": {},
   "outputs": [
    {
     "name": "stdout",
     "output_type": "stream",
     "text": [
      "0.6233766233766234\n",
      "Time Speed SA ExpDecay 3415.241879224777\n"
     ]
    }
   ],
   "source": [
    "y_pred = Genetic_Algorithm.predict(X_test)\n",
    "cm = confusion_matrix(Y_test, y_pred)\n",
    "\n",
    "print(accuracy_score(Y_test, y_pred))\n",
    "print(\"Time Speed SA ExpDecay\", GA_200_pop)"
   ]
  },
  {
   "cell_type": "code",
   "execution_count": null,
   "id": "80e60561-9ffc-4cfd-a929-6957c1b8755d",
   "metadata": {},
   "outputs": [],
   "source": [
    "# Population 400\n",
    "\n",
    "start_time = time.time()\n",
    "Genetic_Algorithm = mlrose.NeuralNetwork(pop_size = 400, mutation_prob=0.2 ,hidden_nodes= (10,10,10), activation='relu', algorithm='genetic_alg', max_iters=10000,max_attempts=100, random_state=1, curve=True, is_classifier = True)\n",
    "Genetic_Algorithm.fit(X_train, y_train)\n",
    "end_time = time.time()\n",
    "GA_400_pop = end_time - start_time"
   ]
  },
  {
   "cell_type": "code",
   "execution_count": null,
   "id": "03cbdb9d-0b4d-4045-a5ff-af9f1408b768",
   "metadata": {},
   "outputs": [],
   "source": [
    "y_pred = Genetic_Algorithm.predict(X_test)\n",
    "cm = confusion_matrix(Y_test, y_pred)\n",
    "\n",
    "print(accuracy_score(Y_test, y_pred))\n",
    "print(\"Time Speed SA ExpDecay\", GA_400_pop)"
   ]
  },
  {
   "cell_type": "code",
   "execution_count": null,
   "id": "cb0d2641-e3b1-4773-987e-680b27104a8b",
   "metadata": {},
   "outputs": [],
   "source": [
    "# Population 400\n",
    "\n",
    "start_time = time.time()\n",
    "Genetic_Algorithm = mlrose.NeuralNetwork(pop_size = 400, mutation_prob=0.2 ,hidden_nodes= (10,10,10), activation='relu', algorithm='genetic_alg', max_iters=10000,max_attempts=100, random_state=1, curve=True, is_classifier = True)\n",
    "Genetic_Algorithm.fit(X_train, y_train)\n",
    "end_time = time.time()\n",
    "GA_600_pop = end_time - start_time"
   ]
  },
  {
   "cell_type": "code",
   "execution_count": null,
   "id": "dd536cf1-5600-4b5d-991a-bf3f1d3ec935",
   "metadata": {},
   "outputs": [],
   "source": [
    "y_pred = Genetic_Algorithm.predict(X_test)\n",
    "cm = confusion_matrix(Y_test, y_pred)\n",
    "\n",
    "print(accuracy_score(Y_test, y_pred))\n",
    "print(\"Time Speed SA ExpDecay\", GA_600_pop)"
   ]
  },
  {
   "cell_type": "code",
   "execution_count": null,
   "id": "79e3acf1-d669-4dda-8b4d-d23e9412a79a",
   "metadata": {},
   "outputs": [],
   "source": [
    "from keras.models import Sequential\n",
    "from keras.layers import Dense, Activation, Dropout\n",
    "\n",
    "model = Sequential()\n",
    "model.add(Dense(16, input_dim=8, activation='relu')) \n",
    "model.add(Dropout(0.2))\n",
    "model.add(Dense(1)) \n",
    "model.add(Activation('sigmoid'))  \n",
    "model.compile(loss='binary_crossentropy',\n",
    "              optimizer='adam',             #also try adam\n",
    "              metrics=['accuracy'])"
   ]
  },
  {
   "cell_type": "code",
   "execution_count": null,
   "id": "c7ae6101-ca01-4482-a1e9-f57788dcbbcc",
   "metadata": {},
   "outputs": [],
   "source": [
    "history = model.fit(X_train, Y_train ,verbose=1, epochs=50, batch_size=64,\n",
    "                    validation_data=(X_test, Y_test))\n",
    "\n",
    "_, acc = model.evaluate(X_test, Y_test)\n",
    "print(\"Accuracy = \", (acc * 100.0), \"%\")\n",
    "\n",
    "\n",
    "#plot the training and validation accuracy and loss at each epoch\n",
    "loss = history.history['loss']\n",
    "val_loss = history.history['val_loss']\n",
    "epochs = range(1, len(loss) + 1)\n",
    "plt.plot(epochs, loss, 'y', label='Training loss')\n",
    "plt.plot(epochs, val_loss, 'r', label='Validation loss')\n",
    "plt.title('Training and validation loss')\n",
    "plt.xlabel('Epochs')\n",
    "plt.ylabel('Loss')\n",
    "plt.legend()\n",
    "plt.show()\n",
    "\n",
    "acc = history.history['accuracy']\n",
    "val_acc = history.history['val_accuracy']\n",
    "plt.plot(epochs, acc, 'y', label='Training acc')\n",
    "plt.plot(epochs, val_acc, 'r', label='Validation acc')\n",
    "plt.title('Training and validation accuracy')\n",
    "plt.xlabel('Epochs')\n",
    "plt.ylabel('Accuracy')\n",
    "plt.legend()\n",
    "plt.show()"
   ]
  },
  {
   "cell_type": "markdown",
   "id": "a9a44b4b-ed82-4875-835b-e1d8d85d10ed",
   "metadata": {},
   "source": [
    "MIMIC"
   ]
  },
  {
   "cell_type": "code",
   "execution_count": null,
   "id": "0e2e8ae8-2605-49d1-8ebf-afbcdc3aed3f",
   "metadata": {},
   "outputs": [],
   "source": []
  }
 ],
 "metadata": {
  "kernelspec": {
   "display_name": "Python 3 (ipykernel)",
   "language": "python",
   "name": "python3"
  },
  "language_info": {
   "codemirror_mode": {
    "name": "ipython",
    "version": 3
   },
   "file_extension": ".py",
   "mimetype": "text/x-python",
   "name": "python",
   "nbconvert_exporter": "python",
   "pygments_lexer": "ipython3",
   "version": "3.7.3"
  }
 },
 "nbformat": 4,
 "nbformat_minor": 5
}
